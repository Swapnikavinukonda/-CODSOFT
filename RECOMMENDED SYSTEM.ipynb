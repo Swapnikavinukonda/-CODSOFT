{
 "cells": [
  {
   "cell_type": "code",
   "execution_count": 1,
   "id": "46206414",
   "metadata": {},
   "outputs": [
    {
     "name": "stdout",
     "output_type": "stream",
     "text": [
      "movies.csv file created successfully.\n"
     ]
    }
   ],
   "source": [
    "movie_data = \"\"\"movieId,title,genres\n",
    "1,Toy Story (1995),Adventure|Animation|Children|Comedy|Fantasy\n",
    "2,Jumanji (1995),Adventure|Children|Fantasy\n",
    "3,Grumpier Old Men (1995),Comedy|Romance\n",
    "4,Waiting to Exhale (1995),Comedy|Drama|Romance\n",
    "5,Father of the Bride Part II (1995),Comedy\n",
    "\"\"\"\n",
    "with open('movies.csv', 'w') as file:\n",
    "    file.write(movie_data)\n",
    "\n",
    "print(\"movies.csv file created successfully.\")"
   ]
  },
  {
   "cell_type": "code",
   "execution_count": 2,
   "id": "0cb56cc3",
   "metadata": {},
   "outputs": [
    {
     "name": "stdout",
     "output_type": "stream",
     "text": [
      "movies.csv is present in the current directory.\n"
     ]
    }
   ],
   "source": [
    "import os\n",
    "\n",
    "if 'movies.csv' in os.listdir('.'):\n",
    "    print(\"movies.csv is present in the current directory.\")\n",
    "else:\n",
    "    print(\"movies.csv is not found in the current directory.\")"
   ]
  },
  {
   "cell_type": "code",
   "execution_count": 3,
   "id": "f23a2c40",
   "metadata": {},
   "outputs": [
    {
     "name": "stdout",
     "output_type": "stream",
     "text": [
      "ratings.csv file created successfully.\n"
     ]
    }
   ],
   "source": [
    "ratings_data = \"\"\"userId,movieId,rating,timestamp\n",
    "1,1,4.0,964982703\n",
    "1,3,4.0,964981247\n",
    "1,6,4.0,964982224\n",
    "1,47,5.0,964983815\n",
    "1,50,5.0,964982931\n",
    "2,1,4.0,964982703\n",
    "2,3,4.0,964981247\n",
    "2,6,4.0,964982224\n",
    "2,47,5.0,964983815\n",
    "2,50,5.0,964982931\n",
    "\"\"\"\n",
    "\n",
    "with open('ratings.csv', 'w') as file:\n",
    "    file.write(ratings_data)\n",
    "\n",
    "print(\"ratings.csv file created successfully.\")"
   ]
  },
  {
   "cell_type": "code",
   "execution_count": 4,
   "id": "ae08df8e",
   "metadata": {},
   "outputs": [
    {
     "name": "stdout",
     "output_type": "stream",
     "text": [
      "ratings.csv is present in the current directory.\n"
     ]
    }
   ],
   "source": [
    "import os\n",
    "\n",
    "if 'ratings.csv' in os.listdir('.'):\n",
    "    print(\"ratings.csv is present in the current directory.\")\n",
    "else:\n",
    "    print(\"ratings.csv is not found in the current directory.\")"
   ]
  },
  {
   "cell_type": "code",
   "execution_count": 5,
   "id": "0ab451eb",
   "metadata": {},
   "outputs": [
    {
     "name": "stdout",
     "output_type": "stream",
     "text": [
      "   movieId                               title  \\\n",
      "0        1                    Toy Story (1995)   \n",
      "1        2                      Jumanji (1995)   \n",
      "2        3             Grumpier Old Men (1995)   \n",
      "3        4            Waiting to Exhale (1995)   \n",
      "4        5  Father of the Bride Part II (1995)   \n",
      "\n",
      "                                        genres  \n",
      "0  Adventure|Animation|Children|Comedy|Fantasy  \n",
      "1                   Adventure|Children|Fantasy  \n",
      "2                               Comedy|Romance  \n",
      "3                         Comedy|Drama|Romance  \n",
      "4                                       Comedy  \n",
      "   userId  movieId  rating  timestamp\n",
      "0       1        1     4.0  964982703\n",
      "1       1        3     4.0  964981247\n",
      "2       1        6     4.0  964982224\n",
      "3       1       47     5.0  964983815\n",
      "4       1       50     5.0  964982931\n"
     ]
    }
   ],
   "source": [
    "import pandas as pd\n",
    "\n",
    "movies = pd.read_csv('movies.csv')\n",
    "print(movies.head())\n",
    "\n",
    "ratings = pd.read_csv('ratings.csv')\n",
    "print(ratings.head())"
   ]
  },
  {
   "cell_type": "code",
   "execution_count": 6,
   "id": "bc4de4eb",
   "metadata": {},
   "outputs": [
    {
     "name": "stdout",
     "output_type": "stream",
     "text": [
      "title   Grumpier Old Men (1995)  Toy Story (1995)\n",
      "userId                                           \n",
      "1                           4.0               4.0\n",
      "2                           4.0               4.0\n"
     ]
    }
   ],
   "source": [
    "data = pd.merge(ratings, movies, on='movieId')\n",
    "\n",
    "user_movie_matrix = data.pivot_table(index='userId', columns='title', values='rating')\n",
    "print(user_movie_matrix.head())"
   ]
  },
  {
   "cell_type": "code",
   "execution_count": 7,
   "id": "04027f33",
   "metadata": {},
   "outputs": [
    {
     "name": "stdout",
     "output_type": "stream",
     "text": [
      "[[1. 1.]\n",
      " [1. 1.]]\n"
     ]
    }
   ],
   "source": [
    "from sklearn.metrics.pairwise import cosine_similarity\n",
    "\n",
    "user_similarity = cosine_similarity(user_movie_matrix)\n",
    "print(user_similarity[:5, :5])"
   ]
  },
  {
   "cell_type": "code",
   "execution_count": 8,
   "id": "c9936c97",
   "metadata": {},
   "outputs": [
    {
     "name": "stdout",
     "output_type": "stream",
     "text": [
      "Top recommendations for user 1:\n",
      " Series([], dtype: float64)\n",
      "Top recommendations for user 2:\n",
      " Series([], dtype: float64)\n",
      "User 3 not found in the user_movie_matrix.\n",
      "User 4 not found in the user_movie_matrix.\n"
     ]
    }
   ],
   "source": [
    "import numpy as np\n",
    "\n",
    "def get_recommendations(user_id, user_movie_matrix, user_similarity, n_recommendations=5):\n",
    "    if user_id not in user_movie_matrix.index:\n",
    "        print(f\"User {user_id} not found in the user_movie_matrix.\")\n",
    "        return None\n",
    "    user_ratings = user_movie_matrix.loc[user_id]\n",
    "    \n",
    "    similar_users = user_similarity[user_id - 1] \n",
    "    \n",
    "    weighted_sum_ratings = np.dot(similar_users, user_movie_matrix)\n",
    "   \n",
    "    sum_of_similarities = np.array([np.abs(similar_users).sum()] * user_movie_matrix.shape[1])\n",
    "    weighted_avg_ratings = weighted_sum_ratings / sum_of_similarities\n",
    "    \n",
    "    weighted_avg_ratings_series = pd.Series(weighted_avg_ratings, index=user_movie_matrix.columns)\n",
    "    \n",
    "    already_rated = user_ratings[user_ratings > 0].index\n",
    "    recommendations = weighted_avg_ratings_series.drop(already_rated)\n",
    "    \n",
    "    top_recommendations = recommendations.nlargest(n_recommendations)\n",
    "    \n",
    "    return top_recommendations\n",
    "\n",
    "user_ids = [1, 2, 3, 4]  \n",
    "\n",
    "for user_id in user_ids:\n",
    "    recommendations = get_recommendations(user_id, user_movie_matrix, user_similarity)\n",
    "    if recommendations is not None:\n",
    "        print(f\"Top recommendations for user {user_id}:\\n\", recommendations)"
   ]
  },
  {
   "cell_type": "code",
   "execution_count": null,
   "id": "d4f84dc6",
   "metadata": {},
   "outputs": [],
   "source": []
  }
 ],
 "metadata": {
  "kernelspec": {
   "display_name": "Python 3 (ipykernel)",
   "language": "python",
   "name": "python3"
  },
  "language_info": {
   "codemirror_mode": {
    "name": "ipython",
    "version": 3
   },
   "file_extension": ".py",
   "mimetype": "text/x-python",
   "name": "python",
   "nbconvert_exporter": "python",
   "pygments_lexer": "ipython3",
   "version": "3.11.5"
  }
 },
 "nbformat": 4,
 "nbformat_minor": 5
}
